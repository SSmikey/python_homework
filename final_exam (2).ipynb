{
 "cells": [
  {
   "cell_type": "markdown",
   "metadata": {},
   "source": [
    "# ข้อสอบปลายภาควิชา การเขียนโปรแกรมเชิงวัตถุ"
   ]
  },
  {
   "cell_type": "code",
   "execution_count": null,
   "metadata": {},
   "outputs": [],
   "source": [
    "\"\"\"\n",
    "ชื่อ - สกุล - รหัส\n",
    "นายสิทธิชัย แสงนนท์ 6612732134\n",
    "\n",
    "\"\"\""
   ]
  },
  {
   "cell_type": "markdown",
   "metadata": {},
   "source": [
    "## 1. เขียนโปรแกรมโดยใช้กลไกลการทำงานแบบ OOP ตามข้อกำหนดดังต่อไปนี้\n",
    "\n",
    "- จงสร้างคลาส Person\" ที่มีตัวแปร \"name\" และ \"age\" ซึ่งไม่สามารถเข้าถึงผ่านตัวแปร instance ได้ และเขียน method ที่ใช้สำหรับแก้ไข \"age\" จากภายในคลาส และ \"age\" จะต้องมีค่าเพิ่มขึ้นได้อย่างเดียวเท่านั้น\n",
    "\n",
    "- ภายใน Class Person กำหนดให้มี method ชื่อ getInfo() สำหรับแสดงข้อมูลบุคคลนั้น ๆ"
   ]
  },
  {
   "cell_type": "code",
   "execution_count": 1,
   "metadata": {
    "tags": []
   },
   "outputs": [],
   "source": [
    "# เขียนโปรแกรมในช่องนี้\n",
    "class Person():\n",
    "    def __init__(self, name, age):\n",
    "        self._name = name\n",
    "        self._age = age\n",
    "\n",
    "    def set_age(self, new_age):\n",
    "        if new_age >= self._age:\n",
    "            self._age = new_age\n",
    "        else:\n",
    "            print(\"ไม่สามารถลดอายุลงได้\")\n",
    "\n",
    "    def getInfo(self):\n",
    "        print(f\"Name: {self._name}\")\n",
    "        print(f\"Age: {self._age}\")"
   ]
  },
  {
   "cell_type": "code",
   "execution_count": 2,
   "metadata": {
    "tags": []
   },
   "outputs": [],
   "source": [
    "# จงสร้างตัวแปร instance จากคลาส Person\n",
    "person2 = Person('sittichai', 18)\n"
   ]
  },
  {
   "cell_type": "code",
   "execution_count": 4,
   "metadata": {
    "tags": []
   },
   "outputs": [],
   "source": [
    "# จงกำหนดอายุให้แก่ age\n",
    "person2.set_age(25)\n"
   ]
  },
  {
   "cell_type": "code",
   "execution_count": 5,
   "metadata": {},
   "outputs": [
    {
     "name": "stdout",
     "output_type": "stream",
     "text": [
      "Name: sittichai\n",
      "Age: 25\n"
     ]
    }
   ],
   "source": [
    "# จงแสดงข้่อมูลบุคคลของตัวแปร instance \n",
    "person2.getInfo()\n"
   ]
  },
  {
   "cell_type": "markdown",
   "metadata": {},
   "source": [
    "## 2.จงสร้างคลาส Student ที่มีการสืบทอดคุณสมบัติจากคลาส Person ในข้อที่ 1\n",
    "\n",
    "- ในคลาส Student จะมีคุณสมบัติเพิ่มเข้ามาดังต่อไปนี้ \"student_id\" คือ รหัสนักศึกษา, \"major\" คือ สาขาวิชา และทั้งสองจะต้องเป็นคุณสมบัติที่ไม่สามารถแก้ไขได้หลังจากสร้างตัวแปร Instance แล้ว\n",
    "\n",
    "- และใน method getInfo() ให้เพิ่มการแแสดง รหัสนักศึกษา และ สาชาวิชา เข้ามาด้วย"
   ]
  },
  {
   "cell_type": "code",
   "execution_count": 6,
   "metadata": {},
   "outputs": [],
   "source": [
    "# เขียนโปรแกรมในช่องนี้\n",
    "class Student(Person):\n",
    "    def __init__(self, name, age, student_id, major):\n",
    "        super().__init__(name, age)       \n",
    "        self._student_id = student_id\n",
    "        self._major = major\n",
    "\n",
    "    def getInfo(self):\n",
    "        super().getInfo()\n",
    "        print(f\"Student ID : {self._student_id}\")\n",
    "        print(f\"Major : {self._major}\")"
   ]
  },
  {
   "cell_type": "code",
   "execution_count": 7,
   "metadata": {},
   "outputs": [],
   "source": [
    "# จงสร้างตัวแปร instance จากคลาส Student\n",
    "student2 = Student(\"Sittichai\", 18, \"6612732134\", \"Computer Science\")\n"
   ]
  },
  {
   "cell_type": "code",
   "execution_count": 8,
   "metadata": {},
   "outputs": [
    {
     "name": "stdout",
     "output_type": "stream",
     "text": [
      "Name: Sittichai\n",
      "Age: 18\n",
      "Student ID : 6612732134\n",
      "Major : Computer Science\n"
     ]
    }
   ],
   "source": [
    "# จงแสดงข้่อมูลนักเรียนของตัวแปร instance \n",
    "student2.getInfo()\n"
   ]
  },
  {
   "cell_type": "markdown",
   "metadata": {},
   "source": [
    "## 3.จงสร้างคลาส ComSciStudent ที่มีการสืบทอดคุณสมบัติจากคลาส Student ในข้อที่ 2\n",
    "\n",
    "- ในคลาส ComSciStudent จะมีคุณสมบัติที่รับเข้ามาแค่ \"student_id\" คือ รหัสนักศึกษา, แต่ \"major\" คือ สาขาวิชา จะมีค่า default เป็น \"Computer Science\" และทั้งสองจะต้องเป็นคุณสมบัติที่ไม่สามารถแก้ไขได้หลังจากสร้างตัวแปร Instance แล้ว\n",
    "\n",
    "- ในคลาส ComSciStudent จะมีคุณสมบัติที่เพิ่มเข้ามา อีก 1 ตัว คือ ความถนัด หรือ aptitude เพิ่มเข้ามา ซึ่งจะสามารถกำหนดได้ในกระบวนการสร้างตัวแปร instance และจะสามารถแก้ไขได้อีกโดยการแก้ไขผ่าน method ได้เท่านั้น\n",
    "\n",
    "\n",
    "- ในคลาส ComSciStudent จะมี method ชื่อว่า Coding() ซึ่งจะนำเสนอข้อมูลว่า นักศึกษา รหัสนักศึกษา ชื่อ กำลังเขียนโปรแกรมอยู่\n",
    "\n",
    "- ในคลาส ComSciStudent จะมี method ชื่อว่า getAptitude() ซึ่งจะนำเสนอข้อมูลว่า นักศึกษา รหัสนักศึกษา ชื่อ มีความถนัดเรื่อง ..."
   ]
  },
  {
   "cell_type": "code",
   "execution_count": 10,
   "metadata": {},
   "outputs": [],
   "source": [
    "# เขียนโปรแกรมในช่องนี้\n",
    "class ComSciStudent(Student):\n",
    "    def __init__(self, name, age, student_id, aptitude = None):\n",
    "        super().__init__(name, age, student_id, major = \"Computer sience\")\n",
    "        self._aptitude = aptitude\n",
    "        \n",
    "    def setAptitude(self, new_aptitude):\n",
    "        self._aptitude = new_aptitude\n",
    "        \n",
    "    def Coding(self):\n",
    "        print(f\"({self._name} (ID: {self._student_id}) is coding. \")\n",
    "        \n",
    "    def getAptitude(self):\n",
    "        return f\"{self._name} (ID: {self._student_id}) has aptitude in {self._aptitude}\""
   ]
  },
  {
   "cell_type": "code",
   "execution_count": 11,
   "metadata": {},
   "outputs": [],
   "source": [
    "# จงสร้างตัวแปร instance จากคลาส ComSciStudent\n",
    "com_sci_student = ComSciStudent(\"Sittichai\", 18, \"6612732134\", aptitude=\"Algorithm\")\n"
   ]
  },
  {
   "cell_type": "code",
   "execution_count": 12,
   "metadata": {},
   "outputs": [
    {
     "name": "stdout",
     "output_type": "stream",
     "text": [
      "Name: Sittichai\n",
      "Age: 18\n",
      "Student ID : 6612732134\n",
      "Major : Computer sience\n"
     ]
    }
   ],
   "source": [
    "# จงแสดงข้่อมูลนักเรียนของตัวแปร instance \n",
    "com_sci_student.getInfo()\n"
   ]
  },
  {
   "cell_type": "code",
   "execution_count": 14,
   "metadata": {},
   "outputs": [
    {
     "name": "stdout",
     "output_type": "stream",
     "text": [
      "(Sittichai (ID: 6612732134) is coding. \n"
     ]
    }
   ],
   "source": [
    "# จงแสดงการ coding\n",
    "com_sci_student.Coding()"
   ]
  },
  {
   "cell_type": "code",
   "execution_count": 16,
   "metadata": {},
   "outputs": [
    {
     "data": {
      "text/plain": [
       "'Sittichai (ID: 6612732134) has aptitude in Algorithm'"
      ]
     },
     "execution_count": 16,
     "metadata": {},
     "output_type": "execute_result"
    }
   ],
   "source": [
    "# จงแสดงความถนัด\n",
    "com_sci_student.getAptitude()\n",
    "\n"
   ]
  },
  {
   "cell_type": "code",
   "execution_count": 17,
   "metadata": {},
   "outputs": [],
   "source": [
    "# จงแก้ไขความถนัด ให้เป็น Python Programing\n",
    "com_sci_student.setAptitude(\"Python Programming\")"
   ]
  },
  {
   "cell_type": "code",
   "execution_count": 18,
   "metadata": {
    "tags": []
   },
   "outputs": [
    {
     "data": {
      "text/plain": [
       "'Sittichai (ID: 6612732134) has aptitude in Python Programming'"
      ]
     },
     "execution_count": 18,
     "metadata": {},
     "output_type": "execute_result"
    }
   ],
   "source": [
    "com_sci_student.getAptitude()"
   ]
  },
  {
   "cell_type": "code",
   "execution_count": null,
   "metadata": {},
   "outputs": [],
   "source": []
  }
 ],
 "metadata": {
  "kernelspec": {
   "display_name": "Python 3 (ipykernel)",
   "language": "python",
   "name": "python3"
  },
  "language_info": {
   "codemirror_mode": {
    "name": "ipython",
    "version": 3
   },
   "file_extension": ".py",
   "mimetype": "text/x-python",
   "name": "python",
   "nbconvert_exporter": "python",
   "pygments_lexer": "ipython3",
   "version": "3.11.5"
  }
 },
 "nbformat": 4,
 "nbformat_minor": 4
}
